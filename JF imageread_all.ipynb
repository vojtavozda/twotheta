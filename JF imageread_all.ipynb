{
 "cells": [
  {
   "cell_type": "markdown",
   "metadata": {},
   "source": [
    "# JF image read\n",
    "# Direct Jungfrau data download"
   ]
  },
  {
   "cell_type": "code",
   "execution_count": 122,
   "metadata": {},
   "outputs": [],
   "source": [
    "%matplotlib notebook\n",
    "import os\n",
    "import numpy as np\n",
    "import scipy\n",
    "from scipy import optimize, ndimage\n",
    "\n",
    "import matplotlib.pyplot as plt\n",
    "from matplotlib import cm\n",
    "from extra_data import *\n",
    "from extra_data import by_id\n",
    "import pandas as pd\n",
    "import zipfile"
   ]
  },
  {
   "cell_type": "markdown",
   "metadata": {},
   "source": [
    "## Prepare folder locations with experimental run and proposal number\n",
    "## Change this cell!"
   ]
  },
  {
   "cell_type": "code",
   "execution_count": 123,
   "metadata": {},
   "outputs": [
    {
     "name": "stdout",
     "output_type": "stream",
     "text": [
      "/home/jchal/p2838\n"
     ]
    }
   ],
   "source": [
    "# Create proposal directory\n",
    "#propno = \"3213\" #\"p002353\" \n",
    "propno = \"2838\"\n",
    "home_dir = \"/home/jchal/\"\n",
    "prop_dir = home_dir+\"p\"+propno\n",
    "\n",
    "os.chdir(home_dir)\n",
    "\n",
    "# Make the output directory - caution, this makes the directory here where you run this script.\n",
    "if not os.path.exists(\"p\"+propno):\n",
    "    os.mkdir(\"p\"+propno)\n",
    "    os.chdir(home_dir+\"p\"+propno)\n",
    "else:\n",
    "    os.chdir(home_dir+\"p\"+propno)\n",
    "\n",
    "print(os.getcwd())"
   ]
  },
  {
   "cell_type": "markdown",
   "metadata": {
    "tags": []
   },
   "source": [
    "### Open run and create run folder"
   ]
  },
  {
   "cell_type": "code",
   "execution_count": 109,
   "metadata": {},
   "outputs": [
    {
     "name": "stdout",
     "output_type": "stream",
     "text": [
      "Current directory: /home/jchal/p2838/Run35\n",
      "Run 35 contains 10964 train_IDs.\n"
     ]
    }
   ],
   "source": [
    "#Open run and create run folder\n",
    "run_number = 35\n",
    "run_dir = prop_dir + \"/\"+\"Run\"+str(run_number)\n",
    "\n",
    "run = open_run(propno, run_number, \"proc\")\n",
    "#run = open_run(propno, 302, \"raw\")\n",
    "#run.info()\n",
    "\n",
    "os.chdir(prop_dir)\n",
    "\n",
    "if not os.path.exists(\"Run\"+str(run_number)):\n",
    "    os.mkdir(\"Run\"+str(run_number))\n",
    "    os.chdir(run_dir)    \n",
    "else:\n",
    "    os.chdir(run_dir)\n",
    "   \n",
    "print(\"Current directory: \" + os.getcwd())\n",
    "print(\"Run \" + str(run_number) + \" contains \" + str(len(run.train_ids)) + \" train_IDs.\")"
   ]
  },
  {
   "cell_type": "code",
   "execution_count": 65,
   "metadata": {},
   "outputs": [
    {
     "data": {
      "text/plain": [
       "frozenset({'HED_IA1_EPX100-1/DET/RECEIVER:daqOutput',\n",
       "           'HED_IA1_EPX100-2/DET/RECEIVER:daqOutput',\n",
       "           'HED_IA1_JF500K1/DET/JNGFR01:daqOutput',\n",
       "           'HED_IA1_JF500K2/DET/JNGFR02:daqOutput',\n",
       "           'HED_IA1_JF500K3/DET/JNGFR03:daqOutput',\n",
       "           'HED_IA1_TSC-1/CAM/TARGET_FRONT:daqOutput',\n",
       "           'HED_IA1_TSC-2/CAM/TARGET_BACK:daqOutput',\n",
       "           'HED_OPT_IPM/ADC/1:channel_0.output',\n",
       "           'HED_OPT_IPM/ADC/1:channel_1.output',\n",
       "           'HED_OPT_IPM/ADC/1:channel_2.output',\n",
       "           'HED_OPT_IPM/ADC/1:channel_3.output',\n",
       "           'HED_OPT_IPM/ADC/1:channel_4.output',\n",
       "           'HED_OPT_IPM/ADC/1:channel_5.output',\n",
       "           'HED_OPT_IPM/ADC/1:channel_6.output',\n",
       "           'HED_OPT_IPM/ADC/1:channel_7.output',\n",
       "           'HED_OPT_IPM/ADC/1:channel_8.output',\n",
       "           'HED_OPT_IPM/ADC/1:channel_9.output',\n",
       "           'HED_RR_SYS/MDL/KARABACON:output',\n",
       "           'HED_XTD6_XGM/XGM/DOOCS:output',\n",
       "           'SA2_XTD1_XGM/XGM/DOOCS:output',\n",
       "           'SA2_XTD6_HIREX/AVG/BRAGG:daqOutput',\n",
       "           'SA2_XTD6_HIREX/CAM/BRAGG:daqOutput',\n",
       "           'SA2_XTD6_HIREX/DAQ/GOTTHARD_MASTER:daqOutput',\n",
       "           'SA2_XTD6_HIREX/MDL/FEL_SPECTROMETER:output',\n",
       "           'SA2_XTD6_HIREX/PROC/BRAGG:output'})"
      ]
     },
     "execution_count": 65,
     "metadata": {},
     "output_type": "execute_result"
    }
   ],
   "source": [
    "run.instrument_sources\n",
    "#run.info()"
   ]
  },
  {
   "cell_type": "code",
   "execution_count": 110,
   "metadata": {},
   "outputs": [
    {
     "name": "stdout",
     "output_type": "stream",
     "text": [
      "Extracting files ...\n",
      "Saving ZIP file to: /home/jchal/p2838\n"
     ]
    }
   ],
   "source": [
    "### Jungfrau data extraction and zipping\n",
    "\n",
    "# JF3 = run['HED_IA1_JF500K3/DET/JNGFR03:daqOutput', 'data.adc'].xarray().squeeze().mean(\"trainId\")\n",
    "# this averages over all train IDs and squeezes out the extra nested array in JF images\n",
    "#help(run)\n",
    "\n",
    "os.chdir(run_dir)\n",
    "\n",
    "#N_trains = len(run.train_ids)\n",
    "N_trains = 200\n",
    "start = 0\n",
    "print(\"Extracting files ...\")\n",
    "\n",
    "for i in range(start, start+N_trains): \n",
    "    sel = run.select_trains(i)\n",
    "    JF3 = sel['HED_IA1_JF500K3/DET/JNGFR03:daqOutput', 'data.adc'].xarray().squeeze()\n",
    "    #print(\"Extracted train_ID \" + str(run.train_ids[i]))\n",
    "    \n",
    "    # Export to unformated file\n",
    "    f = open(\"T\"+str(run.train_ids[i])+\".dat\", \"w\")\n",
    "    JF3.data.tofile(f)\n",
    "    f.close()\n",
    "    \n",
    "    #Export to TIF file\n",
    "    #plt.imsave(\"T\"+str(run.train_ids[i])+\".tif\",JF3.data, format=\"tif\", cmap = cm.gray)\n",
    "    #print(str(i) + \",\" + str(JF3.data.max()))   \n",
    "    \n",
    "\n",
    "# ZIP the data in the prop folder\n",
    "os.chdir(prop_dir)\n",
    "print(\"Saving ZIP file to: \" +os.getcwd())\n",
    "#print(os.listdir('.'))\n",
    "\n",
    "zf = zipfile.ZipFile(\"Run\"+str(run_number)+\".zip\", \"w\")\n",
    "for file in os.listdir(\"Run\"+str(run_number)):\n",
    "    #print(file)\n",
    "    #zf.write(os.path.join(\"Run\"+str(run_number)+\"/\", file))\n",
    "    zf.write(os.path.join(\"Run\"+str(run_number), file))\n",
    "    \n",
    "zf.close()\n"
   ]
  },
  {
   "cell_type": "code",
   "execution_count": 124,
   "metadata": {},
   "outputs": [
    {
     "name": "stdout",
     "output_type": "stream",
     "text": [
      "Deleting files in: /home/jchal/p2838\n"
     ]
    }
   ],
   "source": [
    "# Delete all files in the run directory!!!\n",
    "run_number = 36\n",
    "run_dir = prop_dir + \"/\"+\"Run\"+str(run_number)\n",
    "#run_dir = prop_dir\n",
    "\n",
    "os.chdir(run_dir)\n",
    "print(\"Deleting files in: \" + os.getcwd())\n",
    "for file in os.listdir(\".\"):    \n",
    "    if os.path.isfile(file):\n",
    "        os.remove(file)\n",
    "        #print(\"Delete: \" + file)"
   ]
  },
  {
   "cell_type": "code",
   "execution_count": null,
   "metadata": {},
   "outputs": [],
   "source": []
  },
  {
   "cell_type": "code",
   "execution_count": null,
   "metadata": {},
   "outputs": [],
   "source": []
  }
 ],
 "metadata": {
  "kernelspec": {
   "display_name": "xfel (Python 3.7)",
   "language": "python",
   "name": "xfel"
  },
  "language_info": {
   "codemirror_mode": {
    "name": "ipython",
    "version": 3
   },
   "file_extension": ".py",
   "mimetype": "text/x-python",
   "name": "python",
   "nbconvert_exporter": "python",
   "pygments_lexer": "ipython3",
   "version": "3.7.3"
  }
 },
 "nbformat": 4,
 "nbformat_minor": 4
}
