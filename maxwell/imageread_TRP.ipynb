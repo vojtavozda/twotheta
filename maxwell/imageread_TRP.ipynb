{
 "cells": [
  {
   "cell_type": "markdown",
   "metadata": {},
   "source": [
    "# JF image read\n",
    "## Thomas Preston - European XFEL GmbH"
   ]
  },
  {
   "cell_type": "code",
   "execution_count": 7,
   "metadata": {},
   "outputs": [],
   "source": [
    "%matplotlib notebook\n",
    "import os\n",
    "import numpy as np\n",
    "import scipy\n",
    "from scipy import optimize, ndimage\n",
    "\n",
    "import matplotlib.pyplot as plt\n",
    "from matplotlib import cm\n",
    "from extra_data import *\n",
    "import pandas as pd\n",
    "import zipfile"
   ]
  },
  {
   "cell_type": "markdown",
   "metadata": {},
   "source": [
    "## Prepare folder locations with experimental run and proposal number\n",
    "## Change this cell!"
   ]
  },
  {
   "cell_type": "code",
   "execution_count": 8,
   "metadata": {},
   "outputs": [
    {
     "name": "stdout",
     "output_type": "stream",
     "text": [
      "/home/jchal/p3213\n"
     ]
    }
   ],
   "source": [
    "# Create proposal directory\n",
    "propno = \"3213\" #\"p002353\" \n",
    "home_dir = \"/home/jchal/\"\n",
    "prop_dir = home_dir+\"p\"+propno\n",
    "\n",
    "os.chdir(home_dir)\n",
    "\n",
    "# Make the output directory - caution, this makes the directory here where you run this script.\n",
    "if not os.path.exists(\"p\"+propno):\n",
    "    os.mkdir(\"p\"+propno)\n",
    "    os.chdir(home_dir+\"p\"+propno)\n",
    "else:\n",
    "    os.chdir(home_dir+\"p\"+propno)\n",
    "\n",
    "print(os.getcwd())"
   ]
  },
  {
   "cell_type": "markdown",
   "metadata": {
    "tags": []
   },
   "source": [
    "### Open run and create run folder"
   ]
  },
  {
   "cell_type": "code",
   "execution_count": 9,
   "metadata": {},
   "outputs": [
    {
     "ename": "PermissionError",
     "evalue": "[Errno 13] Permission denied: '/gpfs/exfel/exp/HED/202221/p003213/proc/r0031'",
     "output_type": "error",
     "traceback": [
      "\u001b[0;31m---------------------------------------------------------------------------\u001b[0m",
      "\u001b[0;31mPermissionError\u001b[0m                           Traceback (most recent call last)",
      "\u001b[0;32m<ipython-input-9-e90990b4bb4f>\u001b[0m in \u001b[0;36m<module>\u001b[0;34m\u001b[0m\n\u001b[1;32m      3\u001b[0m \u001b[0mrun_dir\u001b[0m \u001b[0;34m=\u001b[0m \u001b[0mprop_dir\u001b[0m \u001b[0;34m+\u001b[0m \u001b[0;34m\"/\"\u001b[0m\u001b[0;34m+\u001b[0m\u001b[0;34m\"Run\"\u001b[0m\u001b[0;34m+\u001b[0m\u001b[0mstr\u001b[0m\u001b[0;34m(\u001b[0m\u001b[0mrun_number\u001b[0m\u001b[0;34m)\u001b[0m\u001b[0;34m\u001b[0m\u001b[0;34m\u001b[0m\u001b[0m\n\u001b[1;32m      4\u001b[0m \u001b[0;34m\u001b[0m\u001b[0m\n\u001b[0;32m----> 5\u001b[0;31m \u001b[0mrun\u001b[0m \u001b[0;34m=\u001b[0m \u001b[0mopen_run\u001b[0m\u001b[0;34m(\u001b[0m\u001b[0mpropno\u001b[0m\u001b[0;34m,\u001b[0m \u001b[0mrun_number\u001b[0m\u001b[0;34m,\u001b[0m \u001b[0;34m\"proc\"\u001b[0m\u001b[0;34m)\u001b[0m\u001b[0;34m\u001b[0m\u001b[0;34m\u001b[0m\u001b[0m\n\u001b[0m\u001b[1;32m      6\u001b[0m \u001b[0;31m#run = open_run(propno, 302, \"raw\")\u001b[0m\u001b[0;34m\u001b[0m\u001b[0;34m\u001b[0m\u001b[0;34m\u001b[0m\u001b[0m\n\u001b[1;32m      7\u001b[0m \u001b[0;31m#run.info()\u001b[0m\u001b[0;34m\u001b[0m\u001b[0;34m\u001b[0m\u001b[0;34m\u001b[0m\u001b[0m\n",
      "\u001b[0;32m/gpfs/exfel/sw/software/xfel_anaconda3/1.1.2/lib/python3.7/site-packages/extra_data/reader.py\u001b[0m in \u001b[0;36mopen_run\u001b[0;34m(proposal, run, data, include, file_filter, inc_suspect_trains, parallelize, _use_voview)\u001b[0m\n\u001b[1;32m   1520\u001b[0m         \u001b[0mosp\u001b[0m\u001b[0;34m.\u001b[0m\u001b[0mjoin\u001b[0m\u001b[0;34m(\u001b[0m\u001b[0mprop_dir\u001b[0m\u001b[0;34m,\u001b[0m \u001b[0mdata\u001b[0m\u001b[0;34m,\u001b[0m \u001b[0mrun\u001b[0m\u001b[0;34m)\u001b[0m\u001b[0;34m,\u001b[0m \u001b[0minclude\u001b[0m\u001b[0;34m=\u001b[0m\u001b[0minclude\u001b[0m\u001b[0;34m,\u001b[0m \u001b[0mfile_filter\u001b[0m\u001b[0;34m=\u001b[0m\u001b[0mfile_filter\u001b[0m\u001b[0;34m,\u001b[0m\u001b[0;34m\u001b[0m\u001b[0;34m\u001b[0m\u001b[0m\n\u001b[1;32m   1521\u001b[0m         \u001b[0minc_suspect_trains\u001b[0m\u001b[0;34m=\u001b[0m\u001b[0minc_suspect_trains\u001b[0m\u001b[0;34m,\u001b[0m \u001b[0mparallelize\u001b[0m\u001b[0;34m=\u001b[0m\u001b[0mparallelize\u001b[0m\u001b[0;34m,\u001b[0m\u001b[0;34m\u001b[0m\u001b[0;34m\u001b[0m\u001b[0m\n\u001b[0;32m-> 1522\u001b[0;31m         \u001b[0m_use_voview\u001b[0m\u001b[0;34m=\u001b[0m\u001b[0m_use_voview\u001b[0m\u001b[0;34m,\u001b[0m\u001b[0;34m\u001b[0m\u001b[0;34m\u001b[0m\u001b[0m\n\u001b[0m\u001b[1;32m   1523\u001b[0m     )\n",
      "\u001b[0;32m/gpfs/exfel/sw/software/xfel_anaconda3/1.1.2/lib/python3.7/site-packages/extra_data/reader.py\u001b[0m in \u001b[0;36mRunDirectory\u001b[0;34m(path, include, file_filter, inc_suspect_trains, parallelize, _use_voview)\u001b[0m\n\u001b[1;32m   1409\u001b[0m         :class:`multiprocessing.Process`).\n\u001b[1;32m   1410\u001b[0m     \"\"\"\n\u001b[0;32m-> 1411\u001b[0;31m     files = [f for f in os.listdir(path)\n\u001b[0m\u001b[1;32m   1412\u001b[0m              if f.endswith('.h5') and (f.lower() != 'overview.h5')]\n\u001b[1;32m   1413\u001b[0m     \u001b[0mfiles\u001b[0m \u001b[0;34m=\u001b[0m \u001b[0;34m[\u001b[0m\u001b[0mosp\u001b[0m\u001b[0;34m.\u001b[0m\u001b[0mjoin\u001b[0m\u001b[0;34m(\u001b[0m\u001b[0mpath\u001b[0m\u001b[0;34m,\u001b[0m \u001b[0mf\u001b[0m\u001b[0;34m)\u001b[0m \u001b[0;32mfor\u001b[0m \u001b[0mf\u001b[0m \u001b[0;32min\u001b[0m \u001b[0mfnmatch\u001b[0m\u001b[0;34m.\u001b[0m\u001b[0mfilter\u001b[0m\u001b[0;34m(\u001b[0m\u001b[0mfiles\u001b[0m\u001b[0;34m,\u001b[0m \u001b[0minclude\u001b[0m\u001b[0;34m)\u001b[0m\u001b[0;34m]\u001b[0m\u001b[0;34m\u001b[0m\u001b[0;34m\u001b[0m\u001b[0m\n",
      "\u001b[0;31mPermissionError\u001b[0m: [Errno 13] Permission denied: '/gpfs/exfel/exp/HED/202221/p003213/proc/r0031'"
     ]
    }
   ],
   "source": [
    "#Open run and create run folder\n",
    "run_number = 31\n",
    "run_dir = prop_dir + \"/\"+\"Run\"+str(run_number)\n",
    "\n",
    "run = open_run(propno, run_number, \"proc\")\n",
    "#run = open_run(propno, 302, \"raw\")\n",
    "#run.info()\n",
    "\n",
    "os.chdir(prop_dir)\n",
    "\n",
    "if not os.path.exists(\"Run\"+str(run_number)):\n",
    "    os.mkdir(\"Run\"+str(run_number))\n",
    "    os.chdir(run_dir)    \n",
    "else:\n",
    "    os.chdir(run_dir)\n",
    "   \n",
    "print(\"Current directory: \" + os.getcwd())\n",
    "print(\"Run \" + str(run_number) + \" contains \" + str(len(run.train_ids)) + \" train_IDs.\")\n",
    "print(\"Proceed to next cells to start data extraction ...\")"
   ]
  },
  {
   "cell_type": "code",
   "execution_count": 6,
   "metadata": {},
   "outputs": [
    {
     "name": "stdout",
     "output_type": "stream",
     "text": [
      "# of trains:    2065\n",
      "Duration:       0:03:26.5\n",
      "First train ID: 695489274\n",
      "Last train ID:  695491338\n",
      "\n",
      "0 detector modules ()\n",
      "\n",
      "14 instrument sources (excluding detectors):\n",
      "  - HED_IA1_JF500K3/DET/JNGFR03:daqOutput\n",
      "  - HED_OPT_IPM/ADC/1:channel_0.output\n",
      "  - HED_OPT_IPM/ADC/1:channel_1.output\n",
      "  - HED_OPT_IPM/ADC/1:channel_2.output\n",
      "  - HED_OPT_IPM/ADC/1:channel_3.output\n",
      "  - HED_OPT_IPM/ADC/1:channel_4.output\n",
      "  - HED_OPT_IPM/ADC/1:channel_5.output\n",
      "  - HED_OPT_IPM/ADC/1:channel_6.output\n",
      "  - HED_OPT_IPM/ADC/1:channel_7.output\n",
      "  - HED_OPT_IPM/ADC/1:channel_8.output\n",
      "  - HED_OPT_IPM/ADC/1:channel_9.output\n",
      "  - HED_RR_SYS/MDL/KARABACON:output\n",
      "  - HED_XTD6_XGM/XGM/DOOCS:output\n",
      "  - SA2_XTD1_XGM/XGM/DOOCS:output\n",
      "\n",
      "22 control sources:\n",
      "  - HED_IA1_DETM/MOTOR/AXIS_10\n",
      "  - HED_IA1_DETM/MOTOR/AXIS_2\n",
      "  - HED_IA1_DETM/MOTOR/AXIS_3\n",
      "  - HED_IA1_DETM/MOTOR/AXIS_4\n",
      "  - HED_IA1_DETM/MOTOR/AXIS_5\n",
      "  - HED_IA1_DETM/MOTOR/AXIS_7\n",
      "  - HED_IA1_DETM/MOTOR/AXIS_8\n",
      "  - HED_IA1_DETM/MOTOR/AXIS_9\n",
      "  - HED_IA1_JF500K3/DET/CONTROL\n",
      "  - HED_IA1_NFS/MOTOR/CRL_X\n",
      "  - HED_IA1_NFS/MOTOR/CRL_Z\n",
      "  - HED_IA1_NFS/MOTOR/NANOCUBE\n",
      "  - HED_IA1_NFS/PMOTOR/PHASE_X\n",
      "  - HED_IA1_NFS/PMOTOR/PHASE_Y\n",
      "  - HED_IA1_NFS/PMOTOR/PHASE_Z\n",
      "  - HED_IA1_NFS/PMOTOR/PIN_X\n",
      "  - HED_IA1_NFS/PMOTOR/PIN_Y\n",
      "  - HED_IA1_NFS/PMOTOR/PIN_Z\n",
      "  - HED_OPT_IPM/ADC/1\n",
      "  - HED_RR_SYS/MDL/KARABACON\n",
      "  - HED_XTD6_XGM/XGM/DOOCS\n",
      "  - SA2_XTD1_XGM/XGM/DOOCS\n",
      "\n"
     ]
    }
   ],
   "source": [
    "run.instrument_sources\n",
    "#run.info()"
   ]
  },
  {
   "cell_type": "code",
   "execution_count": 100,
   "metadata": {},
   "outputs": [
    {
     "data": {
      "image/png": "[encoded data removed]",
      "text/plain": [
       "<Figure size 432x288 with 1 Axes>"
      ]
     },
     "metadata": {
      "needs_background": "light"
     },
     "output_type": "display_data"
    },
    {
     "data": {
      "image/png": "[encoded data removed]",
      "text/plain": [
       "<Figure size 432x288 with 1 Axes>"
      ]
     },
     "metadata": {
      "needs_background": "light"
     },
     "output_type": "display_data"
    }
   ],
   "source": [
    "# Pulse energy data (XGM)\n",
    "%matplotlib inline\n",
    "SA2_XTD1_XGM_iTD = run['SA2_XTD1_XGM/XGM/DOOCS:output', 'data.intensityTD'].xarray().squeeze()\n",
    "SA2_XTD1_XGM_tID = run['SA2_XTD1_XGM/XGM/DOOCS:output', 'data.trainId'].xarray().squeeze()\n",
    "\n",
    "HED_XTD6_XGM_iTD = run['HED_XTD6_XGM/XGM/DOOCS:output', 'data.intensityTD'].xarray().squeeze()\n",
    "HED_XTD6_XGM_tID = run['HED_XTD6_XGM/XGM/DOOCS:output', 'data.trainId'].xarray().squeeze()\n",
    "\n",
    "SA2_XTD1_XGM = np.column_stack((SA2_XTD1_XGM_tID.data[:], SA2_XTD1_XGM_iTD.data[:,0]))\n",
    "HED_XTD6_XGM = np.column_stack((HED_XTD6_XGM_tID.data[:], HED_XTD6_XGM_iTD.data[:,0]))\n",
    "\n",
    "plt.plot(SA2_XTD1_XGM[:,0], SA2_XTD1_XGM[:,1])\n",
    "plt.title(\"SA2_XTD1_XGM_intensityTD\")\n",
    "plt.show()\n",
    "\n",
    "plt.plot(HED_XTD6_XGM[:,0], HED_XTD6_XGM[:,1])\n",
    "plt.title(\"HED_XTD6_XGM_intensityTD\")\n",
    "plt.show()\n",
    "\n",
    "# Save XGM data\n",
    "os.chdir(prop_dir)\n",
    "np.savetxt(\"Run\" + str(run_number)+ \"_SA2_XTD1_XGM.txt\", SA2_XTD1_XGM, delimiter = ',', header = \"SA2_XTD1_XGM_trainID, SA2_XTD1_XGM_intensityTD\")\n",
    "np.savetxt(\"Run\" + str(run_number)+ \"_HED_XTD6_XGM.txt\", HED_XTD6_XGM, delimiter = ',', header = \"HED_XTD6_XGM_trainID, HED_XTD6_XGM_intensityTD\")"
   ]
  },
  {
   "cell_type": "code",
   "execution_count": 101,
   "metadata": {},
   "outputs": [
    {
     "name": "stdout",
     "output_type": "stream",
     "text": [
      "Extracted train_ID 695489274\n",
      "Extracted train_ID 695489275\n",
      "Extracted train_ID 695489276\n",
      "Extracted train_ID 695489277\n",
      "Extracted train_ID 695489278\n",
      "Extracted train_ID 695489279\n",
      "Extracted train_ID 695489280\n",
      "Extracted train_ID 695489281\n",
      "Extracted train_ID 695489282\n",
      "Extracted train_ID 695489283\n",
      "Extracted train_ID 695489284\n",
      "Extracted train_ID 695489285\n",
      "Extracted train_ID 695489286\n",
      "Extracted train_ID 695489287\n",
      "Extracted train_ID 695489288\n",
      "Extracted train_ID 695489289\n",
      "Extracted train_ID 695489290\n",
      "Extracted train_ID 695489291\n",
      "Extracted train_ID 695489292\n",
      "Extracted train_ID 695489293\n",
      "Extracted train_ID 695489294\n",
      "Extracted train_ID 695489295\n",
      "Extracted train_ID 695489296\n",
      "Extracted train_ID 695489297\n",
      "Extracted train_ID 695489298\n",
      "Extracted train_ID 695489299\n",
      "Extracted train_ID 695489300\n",
      "Extracted train_ID 695489301\n",
      "Extracted train_ID 695489302\n",
      "Extracted train_ID 695489303\n",
      "Extracted train_ID 695489304\n",
      "Extracted train_ID 695489305\n",
      "Extracted train_ID 695489306\n",
      "Extracted train_ID 695489307\n",
      "Extracted train_ID 695489308\n",
      "Extracted train_ID 695489309\n",
      "Extracted train_ID 695489310\n",
      "Extracted train_ID 695489311\n",
      "Extracted train_ID 695489312\n",
      "Extracted train_ID 695489313\n",
      "Extracted train_ID 695489314\n",
      "Extracted train_ID 695489315\n",
      "Extracted train_ID 695489316\n",
      "Extracted train_ID 695489317\n",
      "Extracted train_ID 695489318\n",
      "Extracted train_ID 695489319\n",
      "Extracted train_ID 695489320\n",
      "Extracted train_ID 695489321\n",
      "Extracted train_ID 695489322\n",
      "Extracted train_ID 695489323\n",
      "Extracted train_ID 695489324\n",
      "Extracted train_ID 695489325\n",
      "Extracted train_ID 695489326\n",
      "Extracted train_ID 695489327\n",
      "Extracted train_ID 695489328\n",
      "Extracted train_ID 695489329\n",
      "Extracted train_ID 695489330\n",
      "Extracted train_ID 695489331\n",
      "Extracted train_ID 695489332\n",
      "Extracted train_ID 695489333\n",
      "Extracted train_ID 695489334\n",
      "Extracted train_ID 695489335\n",
      "Extracted train_ID 695489336\n",
      "Extracted train_ID 695489337\n",
      "Extracted train_ID 695489338\n",
      "Extracted train_ID 695489339\n",
      "Extracted train_ID 695489340\n",
      "Extracted train_ID 695489341\n",
      "Extracted train_ID 695489342\n",
      "Extracted train_ID 695489343\n",
      "Extracted train_ID 695489344\n",
      "Extracted train_ID 695489345\n",
      "Extracted train_ID 695489346\n",
      "Extracted train_ID 695489347\n",
      "Extracted train_ID 695489348\n",
      "Extracted train_ID 695489349\n",
      "Extracted train_ID 695489350\n",
      "Extracted train_ID 695489351\n",
      "Extracted train_ID 695489352\n",
      "Extracted train_ID 695489353\n",
      "Extracted train_ID 695489354\n",
      "Extracted train_ID 695489355\n",
      "Extracted train_ID 695489356\n",
      "Extracted train_ID 695489357\n",
      "Extracted train_ID 695489358\n",
      "Extracted train_ID 695489359\n",
      "Extracted train_ID 695489360\n",
      "Extracted train_ID 695489361\n",
      "Extracted train_ID 695489362\n",
      "Extracted train_ID 695489363\n",
      "Extracted train_ID 695489364\n",
      "Extracted train_ID 695489365\n",
      "Extracted train_ID 695489366\n",
      "Extracted train_ID 695489367\n",
      "Extracted train_ID 695489368\n",
      "Extracted train_ID 695489369\n",
      "Extracted train_ID 695489370\n",
      "Extracted train_ID 695489371\n",
      "Extracted train_ID 695489372\n",
      "Extracted train_ID 695489373\n",
      "Saving ZIP file to: /home/jchal/p2575\n"
     ]
    }
   ],
   "source": [
    "### Jungfrau data extraction and zipping\n",
    "\n",
    "# JF3 = run['HED_IA1_JF500K3/DET/JNGFR03:daqOutput', 'data.adc'].xarray().squeeze().mean(\"trainId\")\n",
    "# this averages over all train IDs and squeezes out the extra nested array in JF images\n",
    "#help(run)\n",
    "\n",
    "os.chdir(run_dir)\n",
    "\n",
    "#N_trains = len(run.train_ids)\n",
    "N_trains = 100\n",
    "start = 0\n",
    "for i in range(start, start+N_trains): \n",
    "    sel = run.select_trains(i)\n",
    "    JF3 = sel['HED_IA1_JF500K3/DET/JNGFR03:daqOutput', 'data.adc'].xarray().squeeze()\n",
    "    print(\"Extracted train_ID \" + str(run.train_ids[i]))\n",
    "    \n",
    "    # Export to unformated file\n",
    "    f = open(\"T\"+str(run.train_ids[i])+\".dat\", \"w\")\n",
    "    JF3.data.tofile(f)\n",
    "    f.close()\n",
    "    \n",
    "    #Export to TIF file\n",
    "    #if JF3.data.max().__gt__(100000.0):\n",
    "        #plt.imsave(\"T\"+str(run.train_ids[i])+\".tif\",JF3.data, format=\"tif\", cmap = cm.gray)\n",
    "        #print(str(i) + \",\" + str(JF3.data.max()))   \n",
    "    \n",
    "\n",
    "# ZIP the data in the prop folder\n",
    "os.chdir(prop_dir)\n",
    "print(\"Saving ZIP file to: \" +os.getcwd())\n",
    "#print(os.listdir('.'))\n",
    "\n",
    "zf = zipfile.ZipFile(\"Run\"+str(run_number)+\".zip\", \"w\")\n",
    "for file in os.listdir(\"Run\"+str(run_number)):\n",
    "    #print(file)\n",
    "    #zf.write(os.path.join(\"Run\"+str(run_number)+\"/\", file))\n",
    "    zf.write(os.path.join(\"Run\"+str(run_number), file))\n",
    "    \n",
    "zf.close()\n",
    "\n"
   ]
  },
  {
   "cell_type": "code",
   "execution_count": 69,
   "metadata": {},
   "outputs": [
    {
     "data": {
      "image/png": "[encoded data removed]",
      "text/plain": [
       "<Figure size 432x288 with 2 Axes>"
      ]
     },
     "metadata": {
      "needs_background": "light"
     },
     "output_type": "display_data"
    }
   ],
   "source": [
    "### Data viewing\n",
    "%matplotlib inline\n",
    "\n",
    "N_trains = len(run.train_ids)\n",
    "#N_trains = 10\n",
    "start = 0\n",
    "for i in range(start, start+N_trains): \n",
    "    sel = run.select_trains(i)\n",
    "    JF3 = sel['HED_IA1_JF500K3/DET/JNGFR03:daqOutput', 'data.adc'].xarray().squeeze()\n",
    "    print(\"Extracted train_ID\" + str(run.train_ids[i]))   \n",
    "    plt.figure()\n",
    "    plt.imshow(JF3.data, cmap=\"jet\")\n",
    "    #plt.imshow(np.log10(JF3), cmap=\"jet\")\n",
    "    cbar = plt.colorbar()\n",
    "    plt.clim(JF3.data.min(), JF3.data.max())\n",
    "    cbar.ax.set_ylabel(\"Intensity\", rotation=270)\n",
    "    #plt.ylim(390, 430)\n",
    "    plt.title(\"Run:\" + str(run_number)+ \"; Train:\" + str(run.train_ids[i]))\n",
    "    plt.show()\n",
    "\n",
    "\n",
    "# Export to CSV\n",
    "#frame = pd.DataFrame(JF3.data)\n",
    "#frame.to_csv(\"p\"+propno+\"/JF3.csv\", float_format = \"%.0f\")\n",
    "\n",
    "# Export to unformated file\n",
    "f = open(\"p\"+propno+\"/JF3.dat\", \"w\")\n",
    "JF3.data.tofile(f)\n",
    "f.close()"
   ]
  },
  {
   "cell_type": "code",
   "execution_count": 102,
   "metadata": {},
   "outputs": [
    {
     "name": "stdout",
     "output_type": "stream",
     "text": [
      "Deleting files in: /home/jchal/p2575/Run302\n",
      "Delete: T695489351.dat\n",
      "Delete: T695489290.dat\n",
      "Delete: T695489337.dat\n",
      "Delete: T695489278.dat\n",
      "Delete: T695489329.dat\n",
      "Delete: T695489352.dat\n",
      "Delete: T695489349.dat\n",
      "Delete: T695489359.dat\n",
      "Delete: T695489362.dat\n",
      "Delete: T695489313.dat\n",
      "Delete: T695489293.dat\n",
      "Delete: T695489345.dat\n",
      "Delete: T695489299.dat\n",
      "Delete: T695489368.dat\n",
      "Delete: T695489348.dat\n",
      "Delete: T695489276.dat\n",
      "Delete: T695489324.dat\n",
      "Delete: T695489289.dat\n",
      "Delete: T695489310.dat\n",
      "Delete: T695489372.dat\n",
      "Delete: T695489373.dat\n",
      "Delete: T695489302.dat\n",
      "Delete: T695489274.dat\n",
      "Delete: T695489319.dat\n",
      "Delete: T695489355.dat\n",
      "Delete: T695489322.dat\n",
      "Delete: T695489331.dat\n",
      "Delete: T695489327.dat\n",
      "Delete: T695489342.dat\n",
      "Delete: T695489358.dat\n",
      "Delete: T695489305.dat\n",
      "Delete: T695489284.dat\n",
      "Delete: T695489320.dat\n",
      "Delete: T695489295.dat\n",
      "Delete: T695489325.dat\n",
      "Delete: T695489315.dat\n",
      "Delete: T695489317.dat\n",
      "Delete: T695489328.dat\n",
      "Delete: T695489280.dat\n",
      "Delete: T695489370.dat\n",
      "Delete: T695489363.dat\n",
      "Delete: T695489338.dat\n",
      "Delete: T695489356.dat\n",
      "Delete: T695489347.dat\n",
      "Delete: T695489303.dat\n",
      "Delete: T695489369.dat\n",
      "Delete: T695489357.dat\n",
      "Delete: T695489335.dat\n",
      "Delete: T695489354.dat\n",
      "Delete: T695489307.dat\n",
      "Delete: T695489353.dat\n",
      "Delete: T695489283.dat\n",
      "Delete: T695489277.dat\n",
      "Delete: T695489314.dat\n",
      "Delete: T695489340.dat\n",
      "Delete: T695489318.dat\n",
      "Delete: T695489361.dat\n",
      "Delete: T695489297.dat\n",
      "Delete: T695489304.dat\n",
      "Delete: T695489292.dat\n",
      "Delete: T695489364.dat\n",
      "Delete: T695489306.dat\n",
      "Delete: T695489309.dat\n",
      "Delete: T695489330.dat\n",
      "Delete: T695489291.dat\n",
      "Delete: T695489316.dat\n",
      "Delete: T695489282.dat\n",
      "Delete: T695489366.dat\n",
      "Delete: T695489360.dat\n",
      "Delete: T695489300.dat\n",
      "Delete: T695489341.dat\n",
      "Delete: T695489371.dat\n",
      "Delete: T695489285.dat\n",
      "Delete: T695489311.dat\n",
      "Delete: T695489343.dat\n",
      "Delete: T695489281.dat\n",
      "Delete: T695489294.dat\n",
      "Delete: T695489288.dat\n",
      "Delete: T695489336.dat\n",
      "Delete: T695489346.dat\n",
      "Delete: T695489333.dat\n",
      "Delete: T695489367.dat\n",
      "Delete: T695489339.dat\n",
      "Delete: T695489323.dat\n",
      "Delete: T695489287.dat\n",
      "Delete: T695489275.dat\n",
      "Delete: T695489279.dat\n",
      "Delete: T695489344.dat\n",
      "Delete: T695489334.dat\n",
      "Delete: T695489298.dat\n",
      "Delete: T695489296.dat\n",
      "Delete: T695489332.dat\n",
      "Delete: T695489286.dat\n",
      "Delete: T695489301.dat\n",
      "Delete: T695489326.dat\n",
      "Delete: T695489312.dat\n",
      "Delete: T695489308.dat\n",
      "Delete: T695489321.dat\n",
      "Delete: T695489350.dat\n",
      "Delete: T695489365.dat\n"
     ]
    }
   ],
   "source": [
    "# Delete all files in the run directory!!!\n",
    "os.chdir(run_dir)\n",
    "print(\"Deleting files in: \" + os.getcwd())\n",
    "for file in os.listdir(\".\"):    \n",
    "    if os.path.isfile(file):\n",
    "        os.remove(file)\n",
    "        print(\"Delete: \" + file)"
   ]
  },
  {
   "cell_type": "code",
   "execution_count": 14,
   "metadata": {},
   "outputs": [
    {
     "name": "stdout",
     "output_type": "stream",
     "text": [
      "(512, 1024)\n"
     ]
    }
   ],
   "source": [
    "#print(type(np.log10(JF3)))\n",
    "# import cv2\n",
    "# cv2.imwrite(\"p\"+propno+\"/JF3.csv\",np.array([1,23,3]))\n",
    "print(JF3.data.shape)\n",
    "plt.imsave(\"p\"+propno+\"/JF3.tif\",JF3.data, format=\"tif\", cmap = cm.gray) \n",
    "#plt.imshow(np.log10(JF3.data))"
   ]
  },
  {
   "cell_type": "code",
   "execution_count": null,
   "metadata": {},
   "outputs": [],
   "source": []
  },
  {
   "cell_type": "code",
   "execution_count": 8,
   "metadata": {},
   "outputs": [
    {
     "data": {
      "text/plain": [
       "['__class__',\n",
       " '__contains__',\n",
       " '__delattr__',\n",
       " '__dict__',\n",
       " '__dir__',\n",
       " '__doc__',\n",
       " '__eq__',\n",
       " '__format__',\n",
       " '__ge__',\n",
       " '__getattribute__',\n",
       " '__getitem__',\n",
       " '__gt__',\n",
       " '__hash__',\n",
       " '__init__',\n",
       " '__init_subclass__',\n",
       " '__le__',\n",
       " '__lt__',\n",
       " '__module__',\n",
       " '__ne__',\n",
       " '__new__',\n",
       " '__reduce__',\n",
       " '__reduce_ex__',\n",
       " '__repr__',\n",
       " '__setattr__',\n",
       " '__sizeof__',\n",
       " '__str__',\n",
       " '__subclasshook__',\n",
       " '__weakref__',\n",
       " '_glob_keys',\n",
       " '_has_exact_key',\n",
       " '_index_group_names',\n",
       " '_is_control',\n",
       " '_only_tids',\n",
       " 'files',\n",
       " 'inc_suspect_trains',\n",
       " 'keys',\n",
       " 'section',\n",
       " 'sel_keys',\n",
       " 'select_keys',\n",
       " 'select_trains',\n",
       " 'source',\n",
       " 'train_ids',\n",
       " 'union']"
      ]
     },
     "execution_count": 8,
     "metadata": {},
     "output_type": "execute_result"
    }
   ],
   "source": [
    "jf=run['HED_IA1_JF500K3/DET/CONTROL']\n",
    "dir(jf)"
   ]
  },
  {
   "cell_type": "code",
   "execution_count": null,
   "metadata": {},
   "outputs": [],
   "source": []
  }
 ],
 "metadata": {
  "kernelspec": {
   "display_name": "Python 3.10.6 ('.venv': venv)",
   "language": "python",
   "name": "python3"
  },
  "language_info": {
   "codemirror_mode": {
    "name": "ipython",
    "version": 3
   },
   "file_extension": ".py",
   "mimetype": "text/x-python",
   "name": "python",
   "nbconvert_exporter": "python",
   "pygments_lexer": "ipython3",
   "version": "3.10.6 (main, Nov 14 2022, 16:10:14) [GCC 11.3.0]"
  },
  "vscode": {
   "interpreter": {
    "hash": "cb8c886c14d53228c2c2aaa721ba619b35cdf2f94d4c4a212b553d0ba269f7ee"
   }
  }
 },
 "nbformat": 4,
 "nbformat_minor": 4
}
